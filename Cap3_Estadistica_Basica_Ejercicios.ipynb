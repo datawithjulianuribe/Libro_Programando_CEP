{
  "nbformat": 4,
  "nbformat_minor": 0,
  "metadata": {
    "colab": {
      "provenance": []
    },
    "kernelspec": {
      "name": "python3",
      "display_name": "Python 3"
    },
    "language_info": {
      "name": "python"
    }
  },
  "cells": [
    {
      "cell_type": "markdown",
      "source": [
        "#CAPITULO 3\n",
        "#EJERCICIOS RESUELTOS ESTADÍSTICA BÁSICA"
      ],
      "metadata": {
        "id": "G6F-Qq15_Y2T"
      }
    },
    {
      "cell_type": "markdown",
      "source": [
        "###EJERCICIO 1"
      ],
      "metadata": {
        "id": "ZDeDTPyR_hPi"
      }
    },
    {
      "cell_type": "code",
      "execution_count": null,
      "metadata": {
        "id": "uaCYeIHZ9g7l"
      },
      "outputs": [],
      "source": [
        "import numpy as np\n",
        "import statistics as st\n",
        "\n",
        "ventas = [150, 200, 180, 250, 300, 220, 280, 260, 240, 210, 230, 190]\n",
        "\n",
        "media = np.mean(ventas)\n",
        "mediana = np.median(ventas)\n",
        "desviacion_estandar = st.stdev(ventas)\n",
        "\n",
        "print(\"Media:\", media)\n",
        "print(\"Mediana:\", mediana)\n",
        "print(\"Desviación Estándar:\", desviacion_estandar)"
      ]
    },
    {
      "cell_type": "markdown",
      "source": [
        "###EJERCICIO 2"
      ],
      "metadata": {
        "id": "IEXW-JLV_oOy"
      }
    },
    {
      "cell_type": "code",
      "source": [
        "import numpy as np\n",
        "import statistics as st\n",
        "\n",
        "tiempo = [25, 30, 28, 35, 32]\n",
        "\n",
        "varianza = np.var(tiempo)\n",
        "coeficiente_variacion = st.stdev(tiempo) / np.mean(tiempo) * 100\n",
        "\n",
        "print(\"Varianza:\", varianza)\n",
        "print(\"Coeficiente de Variación:\", coeficiente_variacion)"
      ],
      "metadata": {
        "id": "wlwsrhgM_rKt"
      },
      "execution_count": null,
      "outputs": []
    },
    {
      "cell_type": "markdown",
      "source": [
        "###EJERCICIO 3"
      ],
      "metadata": {
        "id": "hmPxuybv_vqF"
      }
    },
    {
      "cell_type": "code",
      "source": [
        "import numpy as np\n",
        "import statistics as st\n",
        "\n",
        "edades = [35, 40, 28, 45, 32, 38, 41, 39]\n",
        "\n",
        "rango = np.max(edades) - np.min(edades)\n",
        "moda = st.mode(edades)\n",
        "\n",
        "print(\"Rango:\", rango)\n",
        "print(\"Moda:\", moda)"
      ],
      "metadata": {
        "id": "KP-Yd1Yo_2rC"
      },
      "execution_count": null,
      "outputs": []
    },
    {
      "cell_type": "markdown",
      "source": [
        "###EJERCICIO 4"
      ],
      "metadata": {
        "id": "KSHkUJizAGQL"
      }
    },
    {
      "cell_type": "code",
      "source": [
        "import numpy as np\n",
        "import statistics as st\n",
        "\n",
        "tiempo = [120, 110, 130, 140, 115]\n",
        "\n",
        "percentil_75 = np.percentile(tiempo, 75)\n",
        "rango_intercuartil = np.percentile(tiempo, 75) - np.percentile(tiempo, 25)\n",
        "\n",
        "print(\"Percentil 75:\", percentil_75)\n",
        "print(\"Rango Intercuartil:\", rango_intercuartil)"
      ],
      "metadata": {
        "id": "ZFayg_L9AUhD"
      },
      "execution_count": null,
      "outputs": []
    },
    {
      "cell_type": "markdown",
      "source": [
        "###EJERCICIO 5"
      ],
      "metadata": {
        "id": "cbpE1YOsAglH"
      }
    },
    {
      "cell_type": "code",
      "source": [
        "import numpy as np\n",
        "from scipy.stats import skew\n",
        "\n",
        "ventas = [200, 150, 180, 220, 250, 190, 210]\n",
        "\n",
        "coeficiente_asimetria = skew(ventas)\n",
        "rango_medio = (np.max(ventas) - np.min(ventas)) / 2\n",
        "\n",
        "print(\"Coeficiente de Asimetría:\", coeficiente_asimetria)\n",
        "print(\"Rango Medio:\", rango_medio)"
      ],
      "metadata": {
        "id": "8F2xg4krAo59"
      },
      "execution_count": null,
      "outputs": []
    },
    {
      "cell_type": "markdown",
      "source": [
        "###EJERCICIO 6"
      ],
      "metadata": {
        "id": "k5n0oBDeA-sJ"
      }
    },
    {
      "cell_type": "code",
      "source": [
        "import numpy as np\n",
        "\n",
        "produccion = [100, 120, 90, 110, 105, 115]\n",
        "\n",
        "mediana = np.median(produccion)\n",
        "varianza = np.var(produccion)\n",
        "\n",
        "print(\"Mediana:\", mediana)\n",
        "print(\"Varianza:\", varianza)"
      ],
      "metadata": {
        "id": "V2GUntRDA9k0"
      },
      "execution_count": null,
      "outputs": []
    },
    {
      "cell_type": "markdown",
      "source": [
        "###EJERCICIO 7"
      ],
      "metadata": {
        "id": "Fw3Hi2ntBmbQ"
      }
    },
    {
      "cell_type": "code",
      "source": [
        "import numpy as np\n",
        "import statistics as st\n",
        "\n",
        "tiempo_respuesta = [3, 5, 4, 2, 6, 3]\n",
        "\n",
        "media = np.mean(tiempo_respuesta)\n",
        "coeficiente_variacion =st.stdev(tiempo_respuesta)/np.mean(tiempo_respuesta)*100\n",
        "\n",
        "print(\"Media:\", media)\n",
        "print(\"Coeficiente de Variación:\", coeficiente_variacion)"
      ],
      "metadata": {
        "id": "A1mHXj-aBm4J"
      },
      "execution_count": null,
      "outputs": []
    },
    {
      "cell_type": "markdown",
      "source": [
        "###EJERCICIO 8"
      ],
      "metadata": {
        "id": "lQ0yUrMNBz6J"
      }
    },
    {
      "cell_type": "code",
      "source": [
        "import numpy as np\n",
        "import statistics as st\n",
        "\n",
        "puntajes = [85, 92, 78, 88, 90]\n",
        "\n",
        "rango = np.max(puntajes) - np.min(puntajes)\n",
        "desviacion_estandar = st.stdev(puntajes)\n",
        "\n",
        "print(\"Rango:\", rango)\n",
        "print(\"Desviación Estándar:\", desviacion_estandar)"
      ],
      "metadata": {
        "id": "FBJQQbEGB372"
      },
      "execution_count": null,
      "outputs": []
    },
    {
      "cell_type": "markdown",
      "source": [
        "###EJERCICIO 9"
      ],
      "metadata": {
        "id": "nYg6U2r8B8GX"
      }
    },
    {
      "cell_type": "code",
      "source": [
        "import numpy as np\n",
        "import statistics as st\n",
        "\n",
        "ingresos = [120, 150, 140, 130, 160, 170, 155, 145, 135, 125, 150, 180]\n",
        "\n",
        "moda = st.mode(ingresos)\n",
        "percentil_90 = np.percentile(ingresos, 90)\n",
        "\n",
        "print(\"Moda:\", moda)\n",
        "print(\"Percentil 90:\", percentil_90)"
      ],
      "metadata": {
        "id": "4LU3WKdgB-5S"
      },
      "execution_count": null,
      "outputs": []
    },
    {
      "cell_type": "markdown",
      "source": [
        "###EJERCICIO 10"
      ],
      "metadata": {
        "id": "Rkd3trnNCIrW"
      }
    },
    {
      "cell_type": "code",
      "source": [
        "import numpy as np\n",
        "import statistics as st\n",
        "\n",
        "peso = [2.5, 3.1, 2.8, 3.2, 2.9]\n",
        "\n",
        "media = np.mean(peso)\n",
        "mediana = np.median(peso)\n",
        "\n",
        "print(\"Media:\", media)\n",
        "print(\"Mediana:\", mediana)"
      ],
      "metadata": {
        "id": "5S0tnoxpCMZm"
      },
      "execution_count": null,
      "outputs": []
    }
  ]
}