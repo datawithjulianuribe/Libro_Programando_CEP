{
  "nbformat": 4,
  "nbformat_minor": 0,
  "metadata": {
    "colab": {
      "provenance": []
    },
    "kernelspec": {
      "name": "python3",
      "display_name": "Python 3"
    },
    "language_info": {
      "name": "python"
    }
  },
  "cells": [
    {
      "cell_type": "markdown",
      "source": [
        "#Varianza"
      ],
      "metadata": {
        "id": "UpgezzLqKISY"
      }
    },
    {
      "cell_type": "markdown",
      "source": [
        "- La varianza mide la propagación de los valores respecto a su media.\n",
        "\n",
        "- Mientras que la media o promedio da una idea de dónde se encuentran los valores, la varianza indica que tan disperso se encuentran.\n",
        "\n",
        "- La varianzaa debe siempre entenderse respecto a la media."
      ],
      "metadata": {
        "id": "NH-PIRWQKM3u"
      }
    },
    {
      "cell_type": "markdown",
      "source": [
        "\\begin{align}\n",
        "        \\text{Varianza: } &\\sigma^2 = \\frac{1}{n}\\left(\\sum_{i=1}^n (x_i-μ)^2\\right).\n",
        "\\end{align}"
      ],
      "metadata": {
        "id": "vwayH_SDKwXG"
      }
    },
    {
      "cell_type": "markdown",
      "source": [
        "#Desviación estándar"
      ],
      "metadata": {
        "id": "22ldnyKLLY63"
      }
    },
    {
      "cell_type": "markdown",
      "source": [
        "- La desviación estándar es la raíz cuadrada de la varianza.\n",
        "\n",
        "- Permite entender la propagación de los datos, por lo tanto, debe relacionarse con la media.\n",
        "\n",
        "- Una de las ventajas de la desviación es que se puede interpretar en las mismas unidades de la media."
      ],
      "metadata": {
        "id": "NinftZ4tLdQg"
      }
    },
    {
      "cell_type": "markdown",
      "source": [
        "\\begin{align}\n",
        "        \\text{Desviación estándar: } &\\sigma = \\sqrt{\\frac{1}{n}\\left(\\sum_{i=1}^n (x_i-μ)^2\\right)}.\n",
        "\\end{align}"
      ],
      "metadata": {
        "id": "JSlaASrhL8L1"
      }
    },
    {
      "cell_type": "code",
      "execution_count": null,
      "metadata": {
        "id": "6758ZQhHJ7HH"
      },
      "outputs": [],
      "source": [
        "#Este código ejecuta la varianza y la desviación estándar.\n",
        "\n",
        "#Se importa la librería random para generar números aleatorios.\n",
        "import random\n",
        "#Importar la librería Math para utilizar calculos matemáticos.\n",
        "import math\n",
        "\n",
        "#Definir la función que representa la media.\n",
        "def media(X):\n",
        "  return sum(X)/len(X)\n",
        "\n",
        "#Definir la función que representa la varianza.\n",
        "def varianza(X):\n",
        "  mu = media(X)\n",
        "\n",
        "  acumulador = 0\n",
        "  for x in X:\n",
        "    acumulador += (x - mu)**2\n",
        "  return acumulador / len(X)\n",
        "\n",
        "#Definir la función que representa la desviación estándar\n",
        "def desvest(X):\n",
        "  return math.sqrt(varianza(X))\n",
        "\n",
        "#Definir una variable X que representa un arreglo de números de ejemplo.\n",
        "X = [random.randint(1,21) for i in range(20)]\n",
        "\n",
        "#Aplicar las funciones para el cálculo de la varianza y la desviación sobre el conjunto de datos de muestra.\n",
        "mu = media(X)\n",
        "var = varianza(X)\n",
        "desviacion = desvest(X)\n",
        "\n",
        "#Imprimir en consola los resultados.\n",
        "print(X)\n",
        "print(f'La media de la lista de números es: {mu}')\n",
        "print(f'Resultado de la varianza: {var}')\n",
        "print(f'Resultado de la desviación estándar: {desviacion}')"
      ]
    }
  ]
}