{
  "nbformat": 4,
  "nbformat_minor": 0,
  "metadata": {
    "colab": {
      "provenance": []
    },
    "kernelspec": {
      "name": "python3",
      "display_name": "Python 3"
    },
    "language_info": {
      "name": "python"
    }
  },
  "cells": [
    {
      "cell_type": "markdown",
      "source": [
        "#Ejercicio demostrativo Carta de control np"
      ],
      "metadata": {
        "id": "x8QHKrkV_F96"
      }
    },
    {
      "cell_type": "markdown",
      "source": [
        "##Datos de prueba"
      ],
      "metadata": {
        "id": "5BAO97IY_FuC"
      }
    },
    {
      "cell_type": "code",
      "execution_count": null,
      "metadata": {
        "id": "3s7RDfDT-7ea"
      },
      "outputs": [],
      "source": [
        "defectos = [2, 1, 4, 0, 3, 1, 1, 0, 1, 2, 3, 2, 2, 2, 1, 3, 4, 2, 2, 3, 3, 1, 1, 1, 1, 2, 2, 2, 2, 0,\n",
        "            1, 1, 2, 1, 1, 2, 2, 2, 1, 1, 2, 2, 2, 2, 2, 1, 1, 1, 1, 1, 1, 2, 2, 2, 2, 2, 3, 3, 3, 3, 3,\n",
        "            3, 3, 3, 3, 3, 3, 3, 3, 3, 3, 3, 3, 3, 3, 3, 3, 3, 3, 3, 3, 3, 3, 3, 3, 3, 3, 3, 3, 3, 3, 3, 3,\n",
        "            3, 3, 3, 3, 3, 3, 3, 3, 3, 3, 3, 3, 3, 3, 3, 3, 3, 3, 3, 3, 3, 3, 3, 3, 3, 3, 3, 3, 3, 3, 3, 3,\n",
        "            3, 3, 3, 3, 3, 3, 3, 3, 3, 3, 3, 3]"
      ]
    },
    {
      "cell_type": "markdown",
      "source": [
        "##Algoritmo de la carta de control np"
      ],
      "metadata": {
        "id": "1hk_op_1_Ds8"
      }
    },
    {
      "cell_type": "code",
      "source": [
        "#Importe de la librería Numpy para el manejo de datos.\n",
        "#Importe de la librería Matplotlib para la construcción del gráfico de control.\n",
        "import numpy as np\n",
        "import matplotlib.pyplot as plt\n",
        "\n",
        "#Calcular la proporción de piezas defectuosas en cada muestra.\n",
        "#Para eso se utiliza una lista vacia y mediante un ciclo for se calculan las proporciones requeridas.\n",
        "proporciones = []\n",
        "n = 50 #Definir el tamaño de cada muestra\n",
        "for i in defectos:\n",
        "  proporciones.append(defectos[i]/n)\n",
        "\n",
        "#Calcular de la media de las proporciones.\n",
        "p = mean(proporciones)\n",
        "\n",
        "#Calcular la proporción de piezas defectuosas en cada lote.\n",
        "n_p = sum(defectos)/len(defectos)\n",
        "\n",
        "#Calcular los límites de control, y aplicar un sí condicional para su control.\n",
        "LSC = n_p + 3 * np.sqrt(n_p * (1 - p))\n",
        "if (n_p - 3 * np.sqrt(n_p * (1 - p))) < 0:\n",
        "  LIC = 0\n",
        "else:\n",
        "  LIC = n_p - 3 * np.sqrt(n_p * (1 - p))\n",
        "\n",
        "#Presentar los resultados de los lîmites de control.\n",
        "print(\"Media de proporciones:\", n_p)\n",
        "print(\"Límite de control superior:\", LSC)\n",
        "print(\"Límite de control inferior:\", LIC)\n",
        "\n",
        "#Crear la carta de control np para los datos con los límites calculados con la librería Matplotlib.\n",
        "fig, ax = plt.subplots()\n",
        "ax.axhline(y=LSC, color='r', linestyle='--', label='LSC')\n",
        "ax.axhline(y=n_p, color='k', linestyle='-', label='LC')\n",
        "ax.axhline(y=LIC, color='r', linestyle='--', label='LIC')\n",
        "ax.plot(defectos, 'o-', color='b', linewidth=1, markersize=4)\n",
        "ax.set_xlabel('Lotes')\n",
        "ax.set_ylabel('Cantidad de piezas defectuosas')\n",
        "ax.set_title('Carta np')\n",
        "ax.legend()\n",
        "plt.show()"
      ],
      "metadata": {
        "id": "GeNO6M3x_EL6"
      },
      "execution_count": null,
      "outputs": []
    }
  ]
}