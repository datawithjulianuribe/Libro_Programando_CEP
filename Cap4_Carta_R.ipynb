{
  "nbformat": 4,
  "nbformat_minor": 0,
  "metadata": {
    "colab": {
      "provenance": []
    },
    "kernelspec": {
      "name": "python3",
      "display_name": "Python 3"
    },
    "language_info": {
      "name": "python"
    }
  },
  "cells": [
    {
      "cell_type": "markdown",
      "source": [
        "#Ejercicio demostrativo Carta de control R"
      ],
      "metadata": {
        "id": "p9w5dxox0vex"
      }
    },
    {
      "cell_type": "markdown",
      "source": [
        "##Datos de prueba"
      ],
      "metadata": {
        "id": "wHyQCs0i02JB"
      }
    },
    {
      "cell_type": "code",
      "execution_count": null,
      "metadata": {
        "id": "xluJ1f3B0j4X"
      },
      "outputs": [],
      "source": [
        "#Importe de la librería Numpy para el manejo de datos.\n",
        "import numpy as np\n",
        "\n",
        "#Se define la variable datos como un arreglo. Esta variable es un arreglo de listas.\n",
        "datos = np.array([\n",
        "    [15.2, 15.6, 15.5, 15.3, 15.4],\n",
        "    [15.3, 15.4, 15.2, 15.1, 15.5],\n",
        "    [15.4, 15.3, 15.1, 15.5, 15.2],\n",
        "    [15.6, 15.5, 15.4, 15.2, 15.1],\n",
        "    [15.3, 15.2, 15.6, 15.4, 15.5],\n",
        "    [15.1, 15.3, 15.2, 15.5, 15.4],\n",
        "    [15.2, 15.5, 15.6, 15.1, 15.4],\n",
        "    [15.3, 15.2, 15.5, 15.4, 15.0],\n",
        "    [15.2, 15.4, 15.3, 15.2, 15.5],\n",
        "    [15.5, 15.7, 15.2, 15.3, 15.1],\n",
        "    [15.2, 15.8, 15.5, 15.3, 15.4],\n",
        "    [15.3, 15.4, 15.9, 15.5, 15.2],\n",
        "    [15.5, 15.2, 15.4, 15.3, 15.6],\n",
        "    [15.3, 15.1, 15.2, 15.5, 15.7],\n",
        "    [15.2, 15.5, 15.4, 15.1, 15.8],\n",
        "    [15.1, 15.3, 15.5, 15.9, 15.4],\n",
        "    [15.2, 15.1, 15.6, 15.4, 15.5],\n",
        "    [15.5, 15.2, 15.7, 15.4, 15.3],\n",
        "    [15.4, 15.3, 15.5, 15.8, 15.1],\n",
        "    [15.9, 15.4, 15.3, 15.5, 15.2]\n",
        "    ])"
      ]
    },
    {
      "cell_type": "markdown",
      "source": [
        "##Algoritmo de la carta de control R"
      ],
      "metadata": {
        "id": "cJvAfS1Y0-K0"
      }
    },
    {
      "cell_type": "code",
      "source": [
        "#Importe de la librería Numpy para el manejo de datos.\n",
        "#Importe de la librería Matplotlib para la construcción del gráfico de control.\n",
        "import numpy as np\n",
        "import matplotlib.pyplot as plt\n",
        "\n",
        "#Calcular el rango de cada muestra de los datos.\n",
        "#Se define e inicializa la variable necesaria rangos de los datos. Para ello se utiliza la librería numpy.\n",
        "rangos = np.max(datos, axis=1) - np.min(datos, axis=1)\n",
        "\n",
        "#Calcular la media de los rangos.\n",
        "media_rangos = np.mean(rangos)\n",
        "\n",
        "#Calcular los límites de control.\n",
        "D4 = 2.282  # Factor de corrección cuando n = 5, se debe cambiar cuando n cambie.\n",
        "D3 = 0.0  # Factor de corrección cuando n = 5, se debe cambiar cuando n cambie.\n",
        "LIC = D3 * media_rangos\n",
        "LSC = D4 * media_rangos\n",
        "\n",
        "#Presentar los resultados de los lîmites de control.\n",
        "print('Limite Superior de Control: ', LSC)\n",
        "print('Limite Central de Control: ', media_rangos)\n",
        "print('Limite Inferior de Control: ', LIC)\n",
        "\n",
        "#Graficar la carta de control R para los datos con los límites calculados con la librería Matplotlib.\n",
        "fig, ax = plt.subplots()\n",
        "ax.plot(rangos, 'o-', label='Rango de las muestras')\n",
        "ax.axhline(y=media_rangos, color='r', linestyle='--', label='LC')\n",
        "ax.axhline(y=LIC, color='g', linestyle='--', label='LIC')\n",
        "ax.axhline(y=LSC, color='g', linestyle='--', label='LSC')\n",
        "ax.set(title='Carta de control R', xlabel='Muestras', ylabel='Rango')\n",
        "ax.legend()\n",
        "plt.show()"
      ],
      "metadata": {
        "id": "B1tYE1kM0_dD"
      },
      "execution_count": null,
      "outputs": []
    }
  ]
}