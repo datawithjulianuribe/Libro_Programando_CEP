{
  "nbformat": 4,
  "nbformat_minor": 0,
  "metadata": {
    "colab": {
      "provenance": []
    },
    "kernelspec": {
      "name": "python3",
      "display_name": "Python 3"
    },
    "language_info": {
      "name": "python"
    }
  },
  "cells": [
    {
      "cell_type": "markdown",
      "source": [
        "#Media o Promedio"
      ],
      "metadata": {
        "id": "NsbR_k0eGmU6"
      }
    },
    {
      "cell_type": "markdown",
      "source": [
        "- Es una medida de tendencia central.\n",
        "\n",
        "- Es comúnmente conocida como el promedio.\n",
        "\n",
        "- La media se simboliza con $\\bar{x}$ cuando proviene de una muestra y con $μ$ cuando es una media poblacional."
      ],
      "metadata": {
        "id": "DF2DziTkGtHf"
      }
    },
    {
      "cell_type": "markdown",
      "source": [
        "\\begin{align}\n",
        "        \\text{Media: } &\\bar{x} = \\frac{1}{n}\\left(\\sum_{i=1}^n x_i\\right).\n",
        "\\end{align}"
      ],
      "metadata": {
        "id": "y7As98gGIyFU"
      }
    },
    {
      "cell_type": "code",
      "execution_count": null,
      "metadata": {
        "id": "wCgAky-3GfwA"
      },
      "outputs": [],
      "source": [
        "#Importar la librería Random para la generación de números aleatorios.\n",
        "import random\n",
        "\n",
        "#Definir una función que represente el concepto de media o promedio.\n",
        "def media(X):\n",
        "  return sum(X)/len(X)\n",
        "\n",
        "#Definir una variable X como un arreglo de lista que contiene 20 elementos.\n",
        "X = [random.randint(1,21) for i in range(20)]\n",
        "\n",
        "#Calcular el promedio invocando la función construida\n",
        "mu = media(X)\n",
        "\n",
        "#Imprimir el resultado del promedio en consola.\n",
        "print(X)\n",
        "print(f'La media de la lista de números es: {mu}')"
      ]
    }
  ]
}