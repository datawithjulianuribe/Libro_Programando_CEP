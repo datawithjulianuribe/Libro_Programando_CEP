{
  "nbformat": 4,
  "nbformat_minor": 0,
  "metadata": {
    "colab": {
      "provenance": []
    },
    "kernelspec": {
      "name": "python3",
      "display_name": "Python 3"
    },
    "language_info": {
      "name": "python"
    }
  },
  "cells": [
    {
      "cell_type": "markdown",
      "source": [
        "#Ejercicio demostrativo Carta de control S"
      ],
      "metadata": {
        "id": "93ULqVK919zF"
      }
    },
    {
      "cell_type": "markdown",
      "source": [
        "##Datos de prueba"
      ],
      "metadata": {
        "id": "VkBIH-yU2D79"
      }
    },
    {
      "cell_type": "code",
      "execution_count": null,
      "metadata": {
        "id": "7-yO3b-J1xQ2"
      },
      "outputs": [],
      "source": [
        "#Importe de la librería Numpy para el manejo de datos.\n",
        "import numpy as np\n",
        "\n",
        "#Se define la variable datos como un arreglo. Esta variable es un arreglo de listas.\n",
        "datos = np.array([\n",
        "         [3, 4, 6, 5, 4, 7, 6, 5, 4, 5],\n",
        "         [7, 6, 8, 9, 6, 7, 8, 6, 7, 6],\n",
        "         [9, 8, 10, 9, 8, 9, 10, 8, 9, 10],\n",
        "         [12, 11, 10, 9, 12, 11, 10, 12, 11, 12],\n",
        "         [14, 15, 13, 14, 15, 16, 13, 14, 13, 16],\n",
        "         [18, 17, 19, 18, 17, 16, 18, 19, 18, 17],\n",
        "         [22, 23, 22, 23, 21, 22, 20, 21, 20, 22],\n",
        "         [25, 24, 26, 25, 24, 25, 23, 24, 26, 25],\n",
        "         [27, 28, 27, 29, 28, 27, 26, 28, 27, 29],\n",
        "         [32, 31, 32, 33, 31, 30, 32, 30, 31, 32],\n",
        "         [35, 34, 36, 34, 36, 35, 36, 34, 36, 35],\n",
        "         [38, 39, 37, 38, 39, 40, 38, 39, 38, 37],\n",
        "         [41, 42, 40, 41, 42, 40, 41, 43, 40, 42],\n",
        "         [44, 43, 45, 44, 43, 45, 46, 44, 46, 45],\n",
        "         [49, 48, 47, 49, 47, 48, 46, 49, 47, 48],\n",
        "         [52, 50, 51, 50, 51, 52, 50, 52, 51, 52],\n",
        "         [55, 54, 56, 55, 56, 54, 56, 55, 57, 57],\n",
        "         [58, 59, 60, 59, 58, 57, 58, 59, 57, 58],\n",
        "         [62, 63, 61, 60, 62, 63, 61, 62, 61, 60],\n",
        "         [65, 64, 63, 64, 65, 63, 65, 64, 62, 63],\n",
        "         [68, 69, 67, 69, 68, 67, 66, 68, 69, 67],\n",
        "         [72, 70, 71, 72, 70, 71, 73, 71, 70, 73],\n",
        "         [75, 76, 74, 76, 75, 74, 73, 76, 75, 73]\n",
        "         ])"
      ]
    },
    {
      "cell_type": "markdown",
      "source": [
        "##Algoritmo de la carta de control S"
      ],
      "metadata": {
        "id": "hwaE2RTp2vkw"
      }
    },
    {
      "cell_type": "code",
      "source": [
        "#Importe de la librería Numpy para el manejo de datos.\n",
        "#Importe de la librería Matplotlib para la construcción del gráfico de control.\n",
        "import numpy as np\n",
        "import matplotlib.pyplot as plt\n",
        "\n",
        "#Calcular la desviación estándar de cada muestra.\n",
        "s = np.std(datos, axis=1, ddof=1)\n",
        "\n",
        "#Calcular los límites de control.\n",
        "B3 = 0 # Factor de corrección cuando n = 10, se debe cambiar cuando n cambie.\n",
        "B4 = 2.09 # Factor de corrección cuando n = 10, se debe cambiar cuando n cambie.\n",
        "LSC = B4*np.mean(s)\n",
        "LIC = B3*np.mean(s)\n",
        "\n",
        "#Presentar los resultados de los lîmites de control.\n",
        "print('Limite Superior de Control: ', LSC)\n",
        "print('Limite Central de Control: ', np.mean(s))\n",
        "print('Limite Inferior de Control: ', LIC)\n",
        "\n",
        "#Graficar la carta de control S para los datos con los límites calculados con la librería Matplotlib.\n",
        "fig, ax = plt.subplots()\n",
        "plt.plot(s, 'o-')\n",
        "plt.axhline(y=np.mean(s), color='r', linestyle='--', label='LC')\n",
        "plt.axhline(y=LSC, color='b', linestyle='--', label='LSC')\n",
        "plt.axhline(y=LIC, color='b', linestyle='--', label='LIC')\n",
        "plt.title('Carta de control S')\n",
        "plt.xlabel('Muestras')\n",
        "plt.ylabel('Desviación estándar')\n",
        "plt.show()"
      ],
      "metadata": {
        "id": "MhPnx-O32mV7"
      },
      "execution_count": null,
      "outputs": []
    }
  ]
}