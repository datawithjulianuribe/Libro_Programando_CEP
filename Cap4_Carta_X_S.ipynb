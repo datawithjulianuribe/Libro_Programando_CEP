{
  "nbformat": 4,
  "nbformat_minor": 0,
  "metadata": {
    "colab": {
      "provenance": []
    },
    "kernelspec": {
      "name": "python3",
      "display_name": "Python 3"
    },
    "language_info": {
      "name": "python"
    }
  },
  "cells": [
    {
      "cell_type": "markdown",
      "source": [
        "#Ejercicio demostrativo Carta de control Xbarra-S"
      ],
      "metadata": {
        "id": "_MdV65HR4R_9"
      }
    },
    {
      "cell_type": "markdown",
      "source": [
        "##Datos de prueba"
      ],
      "metadata": {
        "id": "gd2e1G7l4Rs7"
      }
    },
    {
      "cell_type": "code",
      "execution_count": null,
      "metadata": {
        "id": "x2JkZayI35nS"
      },
      "outputs": [],
      "source": [
        "#Importe de la librería Numpy para el manejo de datos.\n",
        "import numpy as np\n",
        "\n",
        "#Se define la variable datos como un arreglo. Esta variable es un arreglo de listas.\n",
        "datos = np.array([\n",
        "    [15.2, 15.6, 15.5, 15.3, 15.4],\n",
        "    [15.3, 15.4, 15.2, 15.1, 15.5],\n",
        "    [15.4, 15.3, 15.1, 15.5, 15.2],\n",
        "    [15.6, 15.5, 15.4, 15.2, 15.1],\n",
        "    [15.3, 15.2, 15.6, 15.4, 15.5],\n",
        "    [15.1, 15.3, 15.2, 15.5, 15.4],\n",
        "    [15.2, 15.5, 15.6, 15.1, 15.4],\n",
        "    [15.3, 15.2, 15.5, 15.4, 15.0],\n",
        "    [15.2, 15.4, 15.3, 15.2, 15.5],\n",
        "    [15.5, 15.7, 15.2, 15.3, 15.1],\n",
        "    [15.2, 15.8, 15.5, 15.3, 15.4],\n",
        "    [15.3, 15.4, 15.9, 15.5, 15.2],\n",
        "    [15.5, 15.2, 15.4, 15.3, 15.6],\n",
        "    [15.3, 15.1, 15.2, 15.5, 15.7],\n",
        "    [15.2, 15.5, 15.4, 15.1, 15.8],\n",
        "    [15.1, 15.3, 15.5, 15.9, 15.4],\n",
        "    [15.2, 15.1, 15.6, 15.4, 15.5],\n",
        "    [15.5, 15.2, 15.7, 15.4, 15.3],\n",
        "    [15.4, 15.3, 15.5, 15.8, 15.1],\n",
        "    [15.9, 15.4, 15.3, 15.5, 15.2]\n",
        "    ])"
      ]
    },
    {
      "cell_type": "markdown",
      "source": [
        "##Algoritmo de la carta de control Xbarra-S"
      ],
      "metadata": {
        "id": "OI9rgMz-4e2T"
      }
    },
    {
      "cell_type": "code",
      "source": [
        "#Importe de la librería Numpy para el manejo de datos.\n",
        "#Importe de la librería Matplotlib para la construcción del gráfico de control.\n",
        "import numpy as np\n",
        "import matplotlib.pyplot as plt\n",
        "\n",
        "#Calcular la media y desviación estándar de cada muestra.\n",
        "xbar = np.mean(datos, axis=1)\n",
        "s = np.std(datos, axis=1, ddof=1)\n",
        "\n",
        "#Calcular los límites de control de X-bar\n",
        "A3 = 1.427 # Factor de corrección cuando n = 5, se debe cambiar cuando n cambie.\n",
        "LSC = np.mean(xbar) + A3*np.mean(s)\n",
        "LIC = np.mean(xbar) - A3*np.mean(s)\n",
        "\n",
        "#Presentar los resultados de los lîmites de control.\n",
        "print('Limite Superior de Control: ', LSC)\n",
        "print('Limite Central de Control: ', np.mean(xbar))\n",
        "print('Limite Inferior de Control: ', LIC)\n",
        "\n",
        "#Crear la carta de control Xbarra-S para los datos con los límites calculados con la librería Matplotlib.\n",
        "fig, ax = plt.subplots()\n",
        "plt.plot(xbar, 'o-')\n",
        "plt.axhline(y=np.mean(xbar), color='r', linestyle='--', label='LC')\n",
        "plt.axhline(y=LSC, color='b', linestyle='--', label='LSC')\n",
        "plt.axhline(y=LIC, color='b', linestyle='--', label='LIC')\n",
        "ax.set(title='Carta de control Xbarra-S', xlabel='Muestras', ylabel='Media')\n",
        "ax.legend()\n",
        "plt.show()"
      ],
      "metadata": {
        "id": "lmZqJvEY4i4o"
      },
      "execution_count": null,
      "outputs": []
    }
  ]
}