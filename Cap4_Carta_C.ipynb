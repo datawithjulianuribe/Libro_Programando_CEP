{
  "nbformat": 4,
  "nbformat_minor": 0,
  "metadata": {
    "colab": {
      "provenance": []
    },
    "kernelspec": {
      "name": "python3",
      "display_name": "Python 3"
    },
    "language_info": {
      "name": "python"
    }
  },
  "cells": [
    {
      "cell_type": "markdown",
      "source": [
        "#Ejercicio demostrativo Carta de control C"
      ],
      "metadata": {
        "id": "OkPNCRL1BErC"
      }
    },
    {
      "cell_type": "markdown",
      "source": [
        "##Datos de prueba"
      ],
      "metadata": {
        "id": "mOZi6WW2BEeb"
      }
    },
    {
      "cell_type": "code",
      "execution_count": null,
      "metadata": {
        "id": "or9MEfnHA8iu"
      },
      "outputs": [],
      "source": [
        "#Importe de la librería Numpy para el manejo de datos.\n",
        "import numpy as np\n",
        "\n",
        "# Datos de entrada.\n",
        "#Se define la variable c como un arreglo.\n",
        "# número de defectos por unidad.\n",
        "c = np.array([1, 0, 2, 3, 1, 2, 0, 1, 4, 2, 2, 1, 3, 0, 0, 1, 0, 1, 2, 1])\n"
      ]
    },
    {
      "cell_type": "markdown",
      "source": [
        "##Algoritmo de la carta de control C"
      ],
      "metadata": {
        "id": "BMS2wR8kBFKx"
      }
    },
    {
      "cell_type": "code",
      "source": [
        "#Importe de la librería Numpy para el manejo de datos.\n",
        "#Importe de la librería Matplotlib para la construcción del gráfico de control.\n",
        "import numpy as np\n",
        "import matplotlib.pyplot as plt\n",
        "\n",
        "#Calcular el número promedio de defectos por unidad.\n",
        "defectos_promedio = np.mean(c)\n",
        "\n",
        "#Calcular límites de control de la carta C.\n",
        "if (defectos_promedio - 3 * np.sqrt(defectos_promedio)) < 0:\n",
        "  LIC = 0\n",
        "else:\n",
        "  LIC = defectos_promedio - 3 * np.sqrt(defectos_promedio)\n",
        "\n",
        "LSC = defectos_promedio + 3 * np.sqrt(defectos_promedio)\n",
        "\n",
        "#Presentar los resultados de los lîmites de control.\n",
        "print(\"Media de defectos por unidad:\", defectos_promedio)\n",
        "print(\"Límite de control superior:\", LSC)\n",
        "print(\"Límite de control inferior:\", LIC)\n",
        "\n",
        "#Crear la carta de control np para los datos con los límites calculados con la librería Matplotlib.\n",
        "fig, ax = plt.subplots()\n",
        "ax.axhline(y=LSC, color='r', linestyle='--', label='LSC')\n",
        "ax.axhline(y=defectos_promedio, color='k', linestyle='-', label='LC')\n",
        "ax.axhline(y=LIC, color='r', linestyle='--', label='LIC')\n",
        "ax.plot(c, 'o-', markersize=5, color='black')\n",
        "ax.set_title('Carta de control C para atributos')\n",
        "ax.set_xlabel('Unidades de muestra')\n",
        "ax.set_ylabel('Número de defectos por unidad')\n",
        "plt.show()"
      ],
      "metadata": {
        "id": "lxh5ZMGPBI3Y"
      },
      "execution_count": null,
      "outputs": []
    }
  ]
}